{
 "cells": [
  {
   "cell_type": "markdown",
   "metadata": {},
   "source": [
    "<p style=\"text-align:center\">\n",
    "    <a href=\"https://skills.network/?utm_medium=Exinfluencer&utm_source=Exinfluencer&utm_content=000026UJ&utm_term=10006555&utm_id=NA-SkillsNetwork-Channel-SkillsNetworkCoursesIBMDeveloperSkillsNetworkDA0101ENSkillsNetwork20235326-2022-01-01\" target=\"_blank\">\n",
    "    <img src=\"https://cf-courses-data.s3.us.cloud-object-storage.appdomain.cloud/assets/logos/SN_web_lightmode.png\" width=\"200\" alt=\"Skills Network Logo\"  />\n",
    "    </a>\n",
    "</p>\n",
    "\n",
    "<h1 align=center><font size = 5>Data Analysis with Python</font></h1>\n"
    "<h2 align=center><font size = 5>This Solution Made By SAMER F LULU - June 2022/font></h1>\n"
    "<h1 align=center><font size = 5>to be used for solution review only</font></h1>\n"
   ]
  },
  {
   "cell_type": "markdown",
   "metadata": {},
   "source": [
    "# House Sales in King County, USA\n"
   ]
  },
  {
   "cell_type": "markdown",
   "metadata": {},
   "source": [
    "This dataset contains house sale prices for King County, which includes Seattle. It includes homes sold between May 2014 and May 2015.\n"
   ]
  },
  {
   "cell_type": "markdown",
   "metadata": {},
   "source": [
    "| Variable      | Description                                                                                                 |\n",
    "| ------------- | ----------------------------------------------------------------------------------------------------------- |\n",
    "| id            | A notation for a house                                                                                      |\n",
    "| date          | Date house was sold                                                                                         |\n",
    "| price         | Price is prediction target                                                                                  |\n",
    "| bedrooms      | Number of bedrooms                                                                                          |\n",
    "| bathrooms     | Number of bathrooms                                                                                         |\n",
    "| sqft_living   | Square footage of the home                                                                                  |\n",
    "| sqft_lot      | Square footage of the lot                                                                                   |\n",
    "| floors        | Total floors (levels) in house                                                                              |\n",
    "| waterfront    | House which has a view to a waterfront                                                                      |\n",
    "| view          | Has been viewed                                                                                             |\n",
    "| condition     | How good the condition is overall                                                                           |\n",
    "| grade         | overall grade given to the housing unit, based on King County grading system                                |\n",
    "| sqft_above    | Square footage of house apart from basement                                                                 |\n",
    "| sqft_basement | Square footage of the basement                                                                              |\n",
    "| yr_built      | Built Year                                                                                                  |\n",
    "| yr_renovated  | Year when house was renovated                                                                               |\n",
    "| zipcode       | Zip code                                                                                                    |\n",
    "| lat           | Latitude coordinate                                                                                         |\n",
    "| long          | Longitude coordinate                                                                                        |\n",
    "| sqft_living15 | Living room area in 2015(implies-- some renovations) This might or might not have affected the lotsize area |\n",
    "| sqft_lot15    | LotSize area in 2015(implies-- some renovations)                                                            |\n"
   ]
  },
  {
   "cell_type": "markdown",
   "metadata": {},
   "source": [
    "You will require the following libraries:\n"
   ]
  },
  {
   "cell_type": "code",
   "execution_count": 1,
   "metadata": {},
   "outputs": [
    {
     "name": "stdout",
     "output_type": "stream",
     "text": [
      "Requirement already satisfied: pandas in /home/jupyterlab/conda/envs/python/lib/python3.7/site-packages (1.3.5)\n",
      "Requirement already satisfied: python-dateutil>=2.7.3 in /home/jupyterlab/conda/envs/python/lib/python3.7/site-packages (from pandas) (2.8.2)\n",
      "Requirement already satisfied: pytz>=2017.3 in /home/jupyterlab/conda/envs/python/lib/python3.7/site-packages (from pandas) (2022.1)\n",
      "Requirement already satisfied: numpy>=1.17.3 in /home/jupyterlab/conda/envs/python/lib/python3.7/site-packages (from pandas) (1.21.6)\n",
      "Requirement already satisfied: six>=1.5 in /home/jupyterlab/conda/envs/python/lib/python3.7/site-packages (from python-dateutil>=2.7.3->pandas) (1.16.0)\n"
     ]
    }
   ],
   "source": [
    "!pip install pandas"
   ]
  },
  {
   "cell_type": "code",
   "execution_count": 28,
   "metadata": {},
   "outputs": [],
   "source": [
    "import pandas as pd\n",
    "import matplotlib.pyplot as plt\n",
    "import numpy as np\n",
    "import seaborn as sns\n",
    "from sklearn.pipeline import Pipeline\n",
    "from sklearn.preprocessing import StandardScaler,PolynomialFeatures\n",
    "from sklearn.linear_model import LinearRegression\n",
    "%matplotlib inline"
   ]
  },
  {
   "cell_type": "markdown",
   "metadata": {},
   "source": [
    "# Module 1: Importing Data Sets\n"
   ]
  },
  {
   "cell_type": "markdown",
   "metadata": {},
   "source": [
    "Load the csv:\n"
   ]
  },
  {
   "cell_type": "code",
   "execution_count": 3,
   "metadata": {
    "collapsed": false,
    "jupyter": {
     "outputs_hidden": false
    }
   },
   "outputs": [],
   "source": [
    "file_name='https://cf-courses-data.s3.us.cloud-object-storage.appdomain.cloud/IBMDeveloperSkillsNetwork-DA0101EN-SkillsNetwork/labs/FinalModule_Coursera/data/kc_house_data_NaN.csv'\n",
    "df=pd.read_csv(file_name)"
   ]
  },
  {
   "cell_type": "markdown",
   "metadata": {},
   "source": [
    "We use the method <code>head</code> to display the first 5 columns of the dataframe.\n"
   ]
  },
  {
   "cell_type": "code",
   "execution_count": 4,
   "metadata": {},
   "outputs": [
    {
     "data": {
      "text/html": [
       "<div>\n",
       "<style scoped>\n",
       "    .dataframe tbody tr th:only-of-type {\n",
       "        vertical-align: middle;\n",
       "    }\n",
       "\n",
       "    .dataframe tbody tr th {\n",
       "        vertical-align: top;\n",
       "    }\n",
       "\n",
       "    .dataframe thead th {\n",
       "        text-align: right;\n",
       "    }\n",
       "</style>\n",
       "<table border=\"1\" class=\"dataframe\">\n",
       "  <thead>\n",
       "    <tr style=\"text-align: right;\">\n",
       "      <th></th>\n",
       "      <th>Unnamed: 0</th>\n",
       "      <th>id</th>\n",
       "      <th>date</th>\n",
       "      <th>price</th>\n",
       "      <th>bedrooms</th>\n",
       "      <th>bathrooms</th>\n",
       "      <th>sqft_living</th>\n",
       "      <th>sqft_lot</th>\n",
       "      <th>floors</th>\n",
       "      <th>waterfront</th>\n",
       "      <th>...</th>\n",
       "      <th>grade</th>\n",
       "      <th>sqft_above</th>\n",
       "      <th>sqft_basement</th>\n",
       "      <th>yr_built</th>\n",
       "      <th>yr_renovated</th>\n",
       "      <th>zipcode</th>\n",
       "      <th>lat</th>\n",
       "      <th>long</th>\n",
       "      <th>sqft_living15</th>\n",
       "      <th>sqft_lot15</th>\n",
       "    </tr>\n",
       "  </thead>\n",
       "  <tbody>\n",
       "    <tr>\n",
       "      <th>0</th>\n",
       "      <td>0</td>\n",
       "      <td>7129300520</td>\n",
       "      <td>20141013T000000</td>\n",
       "      <td>221900.0</td>\n",
       "      <td>3.0</td>\n",
       "      <td>1.00</td>\n",
       "      <td>1180</td>\n",
       "      <td>5650</td>\n",
       "      <td>1.0</td>\n",
       "      <td>0</td>\n",
       "      <td>...</td>\n",
       "      <td>7</td>\n",
       "      <td>1180</td>\n",
       "      <td>0</td>\n",
       "      <td>1955</td>\n",
       "      <td>0</td>\n",
       "      <td>98178</td>\n",
       "      <td>47.5112</td>\n",
       "      <td>-122.257</td>\n",
       "      <td>1340</td>\n",
       "      <td>5650</td>\n",
       "    </tr>\n",
       "    <tr>\n",
       "      <th>1</th>\n",
       "      <td>1</td>\n",
       "      <td>6414100192</td>\n",
       "      <td>20141209T000000</td>\n",
       "      <td>538000.0</td>\n",
       "      <td>3.0</td>\n",
       "      <td>2.25</td>\n",
       "      <td>2570</td>\n",
       "      <td>7242</td>\n",
       "      <td>2.0</td>\n",
       "      <td>0</td>\n",
       "      <td>...</td>\n",
       "      <td>7</td>\n",
       "      <td>2170</td>\n",
       "      <td>400</td>\n",
       "      <td>1951</td>\n",
       "      <td>1991</td>\n",
       "      <td>98125</td>\n",
       "      <td>47.7210</td>\n",
       "      <td>-122.319</td>\n",
       "      <td>1690</td>\n",
       "      <td>7639</td>\n",
       "    </tr>\n",
       "    <tr>\n",
       "      <th>2</th>\n",
       "      <td>2</td>\n",
       "      <td>5631500400</td>\n",
       "      <td>20150225T000000</td>\n",
       "      <td>180000.0</td>\n",
       "      <td>2.0</td>\n",
       "      <td>1.00</td>\n",
       "      <td>770</td>\n",
       "      <td>10000</td>\n",
       "      <td>1.0</td>\n",
       "      <td>0</td>\n",
       "      <td>...</td>\n",
       "      <td>6</td>\n",
       "      <td>770</td>\n",
       "      <td>0</td>\n",
       "      <td>1933</td>\n",
       "      <td>0</td>\n",
       "      <td>98028</td>\n",
       "      <td>47.7379</td>\n",
       "      <td>-122.233</td>\n",
       "      <td>2720</td>\n",
       "      <td>8062</td>\n",
       "    </tr>\n",
       "    <tr>\n",
       "      <th>3</th>\n",
       "      <td>3</td>\n",
       "      <td>2487200875</td>\n",
       "      <td>20141209T000000</td>\n",
       "      <td>604000.0</td>\n",
       "      <td>4.0</td>\n",
       "      <td>3.00</td>\n",
       "      <td>1960</td>\n",
       "      <td>5000</td>\n",
       "      <td>1.0</td>\n",
       "      <td>0</td>\n",
       "      <td>...</td>\n",
       "      <td>7</td>\n",
       "      <td>1050</td>\n",
       "      <td>910</td>\n",
       "      <td>1965</td>\n",
       "      <td>0</td>\n",
       "      <td>98136</td>\n",
       "      <td>47.5208</td>\n",
       "      <td>-122.393</td>\n",
       "      <td>1360</td>\n",
       "      <td>5000</td>\n",
       "    </tr>\n",
       "    <tr>\n",
       "      <th>4</th>\n",
       "      <td>4</td>\n",
       "      <td>1954400510</td>\n",
       "      <td>20150218T000000</td>\n",
       "      <td>510000.0</td>\n",
       "      <td>3.0</td>\n",
       "      <td>2.00</td>\n",
       "      <td>1680</td>\n",
       "      <td>8080</td>\n",
       "      <td>1.0</td>\n",
       "      <td>0</td>\n",
       "      <td>...</td>\n",
       "      <td>8</td>\n",
       "      <td>1680</td>\n",
       "      <td>0</td>\n",
       "      <td>1987</td>\n",
       "      <td>0</td>\n",
       "      <td>98074</td>\n",
       "      <td>47.6168</td>\n",
       "      <td>-122.045</td>\n",
       "      <td>1800</td>\n",
       "      <td>7503</td>\n",
       "    </tr>\n",
       "  </tbody>\n",
       "</table>\n",
       "<p>5 rows × 22 columns</p>\n",
       "</div>"
      ],
      "text/plain": [
       "   Unnamed: 0          id             date     price  bedrooms  bathrooms  \\\n",
       "0           0  7129300520  20141013T000000  221900.0       3.0       1.00   \n",
       "1           1  6414100192  20141209T000000  538000.0       3.0       2.25   \n",
       "2           2  5631500400  20150225T000000  180000.0       2.0       1.00   \n",
       "3           3  2487200875  20141209T000000  604000.0       4.0       3.00   \n",
       "4           4  1954400510  20150218T000000  510000.0       3.0       2.00   \n",
       "\n",
       "   sqft_living  sqft_lot  floors  waterfront  ...  grade  sqft_above  \\\n",
       "0         1180      5650     1.0           0  ...      7        1180   \n",
       "1         2570      7242     2.0           0  ...      7        2170   \n",
       "2          770     10000     1.0           0  ...      6         770   \n",
       "3         1960      5000     1.0           0  ...      7        1050   \n",
       "4         1680      8080     1.0           0  ...      8        1680   \n",
       "\n",
       "   sqft_basement  yr_built  yr_renovated  zipcode      lat     long  \\\n",
       "0              0      1955             0    98178  47.5112 -122.257   \n",
       "1            400      1951          1991    98125  47.7210 -122.319   \n",
       "2              0      1933             0    98028  47.7379 -122.233   \n",
       "3            910      1965             0    98136  47.5208 -122.393   \n",
       "4              0      1987             0    98074  47.6168 -122.045   \n",
       "\n",
       "   sqft_living15  sqft_lot15  \n",
       "0           1340        5650  \n",
       "1           1690        7639  \n",
       "2           2720        8062  \n",
       "3           1360        5000  \n",
       "4           1800        7503  \n",
       "\n",
       "[5 rows x 22 columns]"
      ]
     },
     "execution_count": 4,
     "metadata": {},
     "output_type": "execute_result"
    }
   ],
   "source": [
    "df.head()"
   ]
  },
  {
   "cell_type": "code",
   "execution_count": 5,
   "metadata": {},
   "outputs": [
    {
     "data": {
      "text/plain": [
       "(21613, 22)"
      ]
     },
     "execution_count": 5,
     "metadata": {},
     "output_type": "execute_result"
    }
   ],
   "source": [
    "df.shape"
   ]
  },
  {
   "cell_type": "markdown",
   "metadata": {},
   "source": [
    "### Question 1\n",
    "\n",
    "Display the data types of each column using the function dtypes, then take a screenshot and submit it, include your code in the image.\n"
   ]
  },
  {
   "cell_type": "code",
   "execution_count": 6,
   "metadata": {
    "collapsed": false,
    "jupyter": {
     "outputs_hidden": false
    }
   },
   "outputs": [
    {
     "data": {
      "text/plain": [
       "Unnamed: 0         int64\n",
       "id                 int64\n",
       "date              object\n",
       "price            float64\n",
       "bedrooms         float64\n",
       "bathrooms        float64\n",
       "sqft_living        int64\n",
       "sqft_lot           int64\n",
       "floors           float64\n",
       "waterfront         int64\n",
       "view               int64\n",
       "condition          int64\n",
       "grade              int64\n",
       "sqft_above         int64\n",
       "sqft_basement      int64\n",
       "yr_built           int64\n",
       "yr_renovated       int64\n",
       "zipcode            int64\n",
       "lat              float64\n",
       "long             float64\n",
       "sqft_living15      int64\n",
       "sqft_lot15         int64\n",
       "dtype: object"
      ]
     },
     "execution_count": 6,
     "metadata": {},
     "output_type": "execute_result"
    }
   ],
   "source": [
    "df.dtypes"
   ]
  },
  {
   "cell_type": "markdown",
   "metadata": {},
   "source": [
    "We use the method describe to obtain a statistical summary of the dataframe.\n"
   ]
  },
  {
   "cell_type": "code",
   "execution_count": 7,
   "metadata": {
    "collapsed": false,
    "jupyter": {
     "outputs_hidden": false
    }
   },
   "outputs": [
    {
     "data": {
      "text/html": [
       "<div>\n",
       "<style scoped>\n",
       "    .dataframe tbody tr th:only-of-type {\n",
       "        vertical-align: middle;\n",
       "    }\n",
       "\n",
       "    .dataframe tbody tr th {\n",
       "        vertical-align: top;\n",
       "    }\n",
       "\n",
       "    .dataframe thead th {\n",
       "        text-align: right;\n",
       "    }\n",
       "</style>\n",
       "<table border=\"1\" class=\"dataframe\">\n",
       "  <thead>\n",
       "    <tr style=\"text-align: right;\">\n",
       "      <th></th>\n",
       "      <th>Unnamed: 0</th>\n",
       "      <th>id</th>\n",
       "      <th>price</th>\n",
       "      <th>bedrooms</th>\n",
       "      <th>bathrooms</th>\n",
       "      <th>sqft_living</th>\n",
       "      <th>sqft_lot</th>\n",
       "      <th>floors</th>\n",
       "      <th>waterfront</th>\n",
       "      <th>view</th>\n",
       "      <th>...</th>\n",
       "      <th>grade</th>\n",
       "      <th>sqft_above</th>\n",
       "      <th>sqft_basement</th>\n",
       "      <th>yr_built</th>\n",
       "      <th>yr_renovated</th>\n",
       "      <th>zipcode</th>\n",
       "      <th>lat</th>\n",
       "      <th>long</th>\n",
       "      <th>sqft_living15</th>\n",
       "      <th>sqft_lot15</th>\n",
       "    </tr>\n",
       "  </thead>\n",
       "  <tbody>\n",
       "    <tr>\n",
       "      <th>count</th>\n",
       "      <td>21613.00000</td>\n",
       "      <td>2.161300e+04</td>\n",
       "      <td>2.161300e+04</td>\n",
       "      <td>21600.000000</td>\n",
       "      <td>21603.000000</td>\n",
       "      <td>21613.000000</td>\n",
       "      <td>2.161300e+04</td>\n",
       "      <td>21613.000000</td>\n",
       "      <td>21613.000000</td>\n",
       "      <td>21613.000000</td>\n",
       "      <td>...</td>\n",
       "      <td>21613.000000</td>\n",
       "      <td>21613.000000</td>\n",
       "      <td>21613.000000</td>\n",
       "      <td>21613.000000</td>\n",
       "      <td>21613.000000</td>\n",
       "      <td>21613.000000</td>\n",
       "      <td>21613.000000</td>\n",
       "      <td>21613.000000</td>\n",
       "      <td>21613.000000</td>\n",
       "      <td>21613.000000</td>\n",
       "    </tr>\n",
       "    <tr>\n",
       "      <th>mean</th>\n",
       "      <td>10806.00000</td>\n",
       "      <td>4.580302e+09</td>\n",
       "      <td>5.400881e+05</td>\n",
       "      <td>3.372870</td>\n",
       "      <td>2.115736</td>\n",
       "      <td>2079.899736</td>\n",
       "      <td>1.510697e+04</td>\n",
       "      <td>1.494309</td>\n",
       "      <td>0.007542</td>\n",
       "      <td>0.234303</td>\n",
       "      <td>...</td>\n",
       "      <td>7.656873</td>\n",
       "      <td>1788.390691</td>\n",
       "      <td>291.509045</td>\n",
       "      <td>1971.005136</td>\n",
       "      <td>84.402258</td>\n",
       "      <td>98077.939805</td>\n",
       "      <td>47.560053</td>\n",
       "      <td>-122.213896</td>\n",
       "      <td>1986.552492</td>\n",
       "      <td>12768.455652</td>\n",
       "    </tr>\n",
       "    <tr>\n",
       "      <th>std</th>\n",
       "      <td>6239.28002</td>\n",
       "      <td>2.876566e+09</td>\n",
       "      <td>3.671272e+05</td>\n",
       "      <td>0.926657</td>\n",
       "      <td>0.768996</td>\n",
       "      <td>918.440897</td>\n",
       "      <td>4.142051e+04</td>\n",
       "      <td>0.539989</td>\n",
       "      <td>0.086517</td>\n",
       "      <td>0.766318</td>\n",
       "      <td>...</td>\n",
       "      <td>1.175459</td>\n",
       "      <td>828.090978</td>\n",
       "      <td>442.575043</td>\n",
       "      <td>29.373411</td>\n",
       "      <td>401.679240</td>\n",
       "      <td>53.505026</td>\n",
       "      <td>0.138564</td>\n",
       "      <td>0.140828</td>\n",
       "      <td>685.391304</td>\n",
       "      <td>27304.179631</td>\n",
       "    </tr>\n",
       "    <tr>\n",
       "      <th>min</th>\n",
       "      <td>0.00000</td>\n",
       "      <td>1.000102e+06</td>\n",
       "      <td>7.500000e+04</td>\n",
       "      <td>1.000000</td>\n",
       "      <td>0.500000</td>\n",
       "      <td>290.000000</td>\n",
       "      <td>5.200000e+02</td>\n",
       "      <td>1.000000</td>\n",
       "      <td>0.000000</td>\n",
       "      <td>0.000000</td>\n",
       "      <td>...</td>\n",
       "      <td>1.000000</td>\n",
       "      <td>290.000000</td>\n",
       "      <td>0.000000</td>\n",
       "      <td>1900.000000</td>\n",
       "      <td>0.000000</td>\n",
       "      <td>98001.000000</td>\n",
       "      <td>47.155900</td>\n",
       "      <td>-122.519000</td>\n",
       "      <td>399.000000</td>\n",
       "      <td>651.000000</td>\n",
       "    </tr>\n",
       "    <tr>\n",
       "      <th>25%</th>\n",
       "      <td>5403.00000</td>\n",
       "      <td>2.123049e+09</td>\n",
       "      <td>3.219500e+05</td>\n",
       "      <td>3.000000</td>\n",
       "      <td>1.750000</td>\n",
       "      <td>1427.000000</td>\n",
       "      <td>5.040000e+03</td>\n",
       "      <td>1.000000</td>\n",
       "      <td>0.000000</td>\n",
       "      <td>0.000000</td>\n",
       "      <td>...</td>\n",
       "      <td>7.000000</td>\n",
       "      <td>1190.000000</td>\n",
       "      <td>0.000000</td>\n",
       "      <td>1951.000000</td>\n",
       "      <td>0.000000</td>\n",
       "      <td>98033.000000</td>\n",
       "      <td>47.471000</td>\n",
       "      <td>-122.328000</td>\n",
       "      <td>1490.000000</td>\n",
       "      <td>5100.000000</td>\n",
       "    </tr>\n",
       "    <tr>\n",
       "      <th>50%</th>\n",
       "      <td>10806.00000</td>\n",
       "      <td>3.904930e+09</td>\n",
       "      <td>4.500000e+05</td>\n",
       "      <td>3.000000</td>\n",
       "      <td>2.250000</td>\n",
       "      <td>1910.000000</td>\n",
       "      <td>7.618000e+03</td>\n",
       "      <td>1.500000</td>\n",
       "      <td>0.000000</td>\n",
       "      <td>0.000000</td>\n",
       "      <td>...</td>\n",
       "      <td>7.000000</td>\n",
       "      <td>1560.000000</td>\n",
       "      <td>0.000000</td>\n",
       "      <td>1975.000000</td>\n",
       "      <td>0.000000</td>\n",
       "      <td>98065.000000</td>\n",
       "      <td>47.571800</td>\n",
       "      <td>-122.230000</td>\n",
       "      <td>1840.000000</td>\n",
       "      <td>7620.000000</td>\n",
       "    </tr>\n",
       "    <tr>\n",
       "      <th>75%</th>\n",
       "      <td>16209.00000</td>\n",
       "      <td>7.308900e+09</td>\n",
       "      <td>6.450000e+05</td>\n",
       "      <td>4.000000</td>\n",
       "      <td>2.500000</td>\n",
       "      <td>2550.000000</td>\n",
       "      <td>1.068800e+04</td>\n",
       "      <td>2.000000</td>\n",
       "      <td>0.000000</td>\n",
       "      <td>0.000000</td>\n",
       "      <td>...</td>\n",
       "      <td>8.000000</td>\n",
       "      <td>2210.000000</td>\n",
       "      <td>560.000000</td>\n",
       "      <td>1997.000000</td>\n",
       "      <td>0.000000</td>\n",
       "      <td>98118.000000</td>\n",
       "      <td>47.678000</td>\n",
       "      <td>-122.125000</td>\n",
       "      <td>2360.000000</td>\n",
       "      <td>10083.000000</td>\n",
       "    </tr>\n",
       "    <tr>\n",
       "      <th>max</th>\n",
       "      <td>21612.00000</td>\n",
       "      <td>9.900000e+09</td>\n",
       "      <td>7.700000e+06</td>\n",
       "      <td>33.000000</td>\n",
       "      <td>8.000000</td>\n",
       "      <td>13540.000000</td>\n",
       "      <td>1.651359e+06</td>\n",
       "      <td>3.500000</td>\n",
       "      <td>1.000000</td>\n",
       "      <td>4.000000</td>\n",
       "      <td>...</td>\n",
       "      <td>13.000000</td>\n",
       "      <td>9410.000000</td>\n",
       "      <td>4820.000000</td>\n",
       "      <td>2015.000000</td>\n",
       "      <td>2015.000000</td>\n",
       "      <td>98199.000000</td>\n",
       "      <td>47.777600</td>\n",
       "      <td>-121.315000</td>\n",
       "      <td>6210.000000</td>\n",
       "      <td>871200.000000</td>\n",
       "    </tr>\n",
       "  </tbody>\n",
       "</table>\n",
       "<p>8 rows × 21 columns</p>\n",
       "</div>"
      ],
      "text/plain": [
       "        Unnamed: 0            id         price      bedrooms     bathrooms  \\\n",
       "count  21613.00000  2.161300e+04  2.161300e+04  21600.000000  21603.000000   \n",
       "mean   10806.00000  4.580302e+09  5.400881e+05      3.372870      2.115736   \n",
       "std     6239.28002  2.876566e+09  3.671272e+05      0.926657      0.768996   \n",
       "min        0.00000  1.000102e+06  7.500000e+04      1.000000      0.500000   \n",
       "25%     5403.00000  2.123049e+09  3.219500e+05      3.000000      1.750000   \n",
       "50%    10806.00000  3.904930e+09  4.500000e+05      3.000000      2.250000   \n",
       "75%    16209.00000  7.308900e+09  6.450000e+05      4.000000      2.500000   \n",
       "max    21612.00000  9.900000e+09  7.700000e+06     33.000000      8.000000   \n",
       "\n",
       "        sqft_living      sqft_lot        floors    waterfront          view  \\\n",
       "count  21613.000000  2.161300e+04  21613.000000  21613.000000  21613.000000   \n",
       "mean    2079.899736  1.510697e+04      1.494309      0.007542      0.234303   \n",
       "std      918.440897  4.142051e+04      0.539989      0.086517      0.766318   \n",
       "min      290.000000  5.200000e+02      1.000000      0.000000      0.000000   \n",
       "25%     1427.000000  5.040000e+03      1.000000      0.000000      0.000000   \n",
       "50%     1910.000000  7.618000e+03      1.500000      0.000000      0.000000   \n",
       "75%     2550.000000  1.068800e+04      2.000000      0.000000      0.000000   \n",
       "max    13540.000000  1.651359e+06      3.500000      1.000000      4.000000   \n",
       "\n",
       "       ...         grade    sqft_above  sqft_basement      yr_built  \\\n",
       "count  ...  21613.000000  21613.000000   21613.000000  21613.000000   \n",
       "mean   ...      7.656873   1788.390691     291.509045   1971.005136   \n",
       "std    ...      1.175459    828.090978     442.575043     29.373411   \n",
       "min    ...      1.000000    290.000000       0.000000   1900.000000   \n",
       "25%    ...      7.000000   1190.000000       0.000000   1951.000000   \n",
       "50%    ...      7.000000   1560.000000       0.000000   1975.000000   \n",
       "75%    ...      8.000000   2210.000000     560.000000   1997.000000   \n",
       "max    ...     13.000000   9410.000000    4820.000000   2015.000000   \n",
       "\n",
       "       yr_renovated       zipcode           lat          long  sqft_living15  \\\n",
       "count  21613.000000  21613.000000  21613.000000  21613.000000   21613.000000   \n",
       "mean      84.402258  98077.939805     47.560053   -122.213896    1986.552492   \n",
       "std      401.679240     53.505026      0.138564      0.140828     685.391304   \n",
       "min        0.000000  98001.000000     47.155900   -122.519000     399.000000   \n",
       "25%        0.000000  98033.000000     47.471000   -122.328000    1490.000000   \n",
       "50%        0.000000  98065.000000     47.571800   -122.230000    1840.000000   \n",
       "75%        0.000000  98118.000000     47.678000   -122.125000    2360.000000   \n",
       "max     2015.000000  98199.000000     47.777600   -121.315000    6210.000000   \n",
       "\n",
       "          sqft_lot15  \n",
       "count   21613.000000  \n",
       "mean    12768.455652  \n",
       "std     27304.179631  \n",
       "min       651.000000  \n",
       "25%      5100.000000  \n",
       "50%      7620.000000  \n",
       "75%     10083.000000  \n",
       "max    871200.000000  \n",
       "\n",
       "[8 rows x 21 columns]"
      ]
     },
     "execution_count": 7,
     "metadata": {},
     "output_type": "execute_result"
    }
   ],
   "source": [
    "df.describe()"
   ]
  },
  {
   "cell_type": "markdown",
   "metadata": {},
   "source": [
    "# Module 2: Data Wrangling\n"
   ]
  },
  {
   "cell_type": "markdown",
   "metadata": {},
   "source": [
    "### Question 2\n",
    "\n",
    "Drop the columns <code>\"id\"</code>  and <code>\"Unnamed: 0\"</code> from axis 1 using the method <code>drop()</code>, then use the method <code>describe()</code> to obtain a statistical summary of the data. Take a screenshot and submit it, make sure the <code>inplace</code> parameter is set to <code>True</code>\n"
   ]
  },
  {
   "cell_type": "code",
   "execution_count": 8,
   "metadata": {
    "collapsed": false,
    "jupyter": {
     "outputs_hidden": false
    }
   },
   "outputs": [
    {
     "data": {
      "text/html": [
       "<div>\n",
       "<style scoped>\n",
       "    .dataframe tbody tr th:only-of-type {\n",
       "        vertical-align: middle;\n",
       "    }\n",
       "\n",
       "    .dataframe tbody tr th {\n",
       "        vertical-align: top;\n",
       "    }\n",
       "\n",
       "    .dataframe thead th {\n",
       "        text-align: right;\n",
       "    }\n",
       "</style>\n",
       "<table border=\"1\" class=\"dataframe\">\n",
       "  <thead>\n",
       "    <tr style=\"text-align: right;\">\n",
       "      <th></th>\n",
       "      <th>price</th>\n",
       "      <th>bedrooms</th>\n",
       "      <th>bathrooms</th>\n",
       "      <th>sqft_living</th>\n",
       "      <th>sqft_lot</th>\n",
       "      <th>floors</th>\n",
       "      <th>waterfront</th>\n",
       "      <th>view</th>\n",
       "      <th>condition</th>\n",
       "      <th>grade</th>\n",
       "      <th>sqft_above</th>\n",
       "      <th>sqft_basement</th>\n",
       "      <th>yr_built</th>\n",
       "      <th>yr_renovated</th>\n",
       "      <th>zipcode</th>\n",
       "      <th>lat</th>\n",
       "      <th>long</th>\n",
       "      <th>sqft_living15</th>\n",
       "      <th>sqft_lot15</th>\n",
       "    </tr>\n",
       "  </thead>\n",
       "  <tbody>\n",
       "    <tr>\n",
       "      <th>count</th>\n",
       "      <td>2.161300e+04</td>\n",
       "      <td>21600.000000</td>\n",
       "      <td>21603.000000</td>\n",
       "      <td>21613.000000</td>\n",
       "      <td>2.161300e+04</td>\n",
       "      <td>21613.000000</td>\n",
       "      <td>21613.000000</td>\n",
       "      <td>21613.000000</td>\n",
       "      <td>21613.000000</td>\n",
       "      <td>21613.000000</td>\n",
       "      <td>21613.000000</td>\n",
       "      <td>21613.000000</td>\n",
       "      <td>21613.000000</td>\n",
       "      <td>21613.000000</td>\n",
       "      <td>21613.000000</td>\n",
       "      <td>21613.000000</td>\n",
       "      <td>21613.000000</td>\n",
       "      <td>21613.000000</td>\n",
       "      <td>21613.000000</td>\n",
       "    </tr>\n",
       "    <tr>\n",
       "      <th>mean</th>\n",
       "      <td>5.400881e+05</td>\n",
       "      <td>3.372870</td>\n",
       "      <td>2.115736</td>\n",
       "      <td>2079.899736</td>\n",
       "      <td>1.510697e+04</td>\n",
       "      <td>1.494309</td>\n",
       "      <td>0.007542</td>\n",
       "      <td>0.234303</td>\n",
       "      <td>3.409430</td>\n",
       "      <td>7.656873</td>\n",
       "      <td>1788.390691</td>\n",
       "      <td>291.509045</td>\n",
       "      <td>1971.005136</td>\n",
       "      <td>84.402258</td>\n",
       "      <td>98077.939805</td>\n",
       "      <td>47.560053</td>\n",
       "      <td>-122.213896</td>\n",
       "      <td>1986.552492</td>\n",
       "      <td>12768.455652</td>\n",
       "    </tr>\n",
       "    <tr>\n",
       "      <th>std</th>\n",
       "      <td>3.671272e+05</td>\n",
       "      <td>0.926657</td>\n",
       "      <td>0.768996</td>\n",
       "      <td>918.440897</td>\n",
       "      <td>4.142051e+04</td>\n",
       "      <td>0.539989</td>\n",
       "      <td>0.086517</td>\n",
       "      <td>0.766318</td>\n",
       "      <td>0.650743</td>\n",
       "      <td>1.175459</td>\n",
       "      <td>828.090978</td>\n",
       "      <td>442.575043</td>\n",
       "      <td>29.373411</td>\n",
       "      <td>401.679240</td>\n",
       "      <td>53.505026</td>\n",
       "      <td>0.138564</td>\n",
       "      <td>0.140828</td>\n",
       "      <td>685.391304</td>\n",
       "      <td>27304.179631</td>\n",
       "    </tr>\n",
       "    <tr>\n",
       "      <th>min</th>\n",
       "      <td>7.500000e+04</td>\n",
       "      <td>1.000000</td>\n",
       "      <td>0.500000</td>\n",
       "      <td>290.000000</td>\n",
       "      <td>5.200000e+02</td>\n",
       "      <td>1.000000</td>\n",
       "      <td>0.000000</td>\n",
       "      <td>0.000000</td>\n",
       "      <td>1.000000</td>\n",
       "      <td>1.000000</td>\n",
       "      <td>290.000000</td>\n",
       "      <td>0.000000</td>\n",
       "      <td>1900.000000</td>\n",
       "      <td>0.000000</td>\n",
       "      <td>98001.000000</td>\n",
       "      <td>47.155900</td>\n",
       "      <td>-122.519000</td>\n",
       "      <td>399.000000</td>\n",
       "      <td>651.000000</td>\n",
       "    </tr>\n",
       "    <tr>\n",
       "      <th>25%</th>\n",
       "      <td>3.219500e+05</td>\n",
       "      <td>3.000000</td>\n",
       "      <td>1.750000</td>\n",
       "      <td>1427.000000</td>\n",
       "      <td>5.040000e+03</td>\n",
       "      <td>1.000000</td>\n",
       "      <td>0.000000</td>\n",
       "      <td>0.000000</td>\n",
       "      <td>3.000000</td>\n",
       "      <td>7.000000</td>\n",
       "      <td>1190.000000</td>\n",
       "      <td>0.000000</td>\n",
       "      <td>1951.000000</td>\n",
       "      <td>0.000000</td>\n",
       "      <td>98033.000000</td>\n",
       "      <td>47.471000</td>\n",
       "      <td>-122.328000</td>\n",
       "      <td>1490.000000</td>\n",
       "      <td>5100.000000</td>\n",
       "    </tr>\n",
       "    <tr>\n",
       "      <th>50%</th>\n",
       "      <td>4.500000e+05</td>\n",
       "      <td>3.000000</td>\n",
       "      <td>2.250000</td>\n",
       "      <td>1910.000000</td>\n",
       "      <td>7.618000e+03</td>\n",
       "      <td>1.500000</td>\n",
       "      <td>0.000000</td>\n",
       "      <td>0.000000</td>\n",
       "      <td>3.000000</td>\n",
       "      <td>7.000000</td>\n",
       "      <td>1560.000000</td>\n",
       "      <td>0.000000</td>\n",
       "      <td>1975.000000</td>\n",
       "      <td>0.000000</td>\n",
       "      <td>98065.000000</td>\n",
       "      <td>47.571800</td>\n",
       "      <td>-122.230000</td>\n",
       "      <td>1840.000000</td>\n",
       "      <td>7620.000000</td>\n",
       "    </tr>\n",
       "    <tr>\n",
       "      <th>75%</th>\n",
       "      <td>6.450000e+05</td>\n",
       "      <td>4.000000</td>\n",
       "      <td>2.500000</td>\n",
       "      <td>2550.000000</td>\n",
       "      <td>1.068800e+04</td>\n",
       "      <td>2.000000</td>\n",
       "      <td>0.000000</td>\n",
       "      <td>0.000000</td>\n",
       "      <td>4.000000</td>\n",
       "      <td>8.000000</td>\n",
       "      <td>2210.000000</td>\n",
       "      <td>560.000000</td>\n",
       "      <td>1997.000000</td>\n",
       "      <td>0.000000</td>\n",
       "      <td>98118.000000</td>\n",
       "      <td>47.678000</td>\n",
       "      <td>-122.125000</td>\n",
       "      <td>2360.000000</td>\n",
       "      <td>10083.000000</td>\n",
       "    </tr>\n",
       "    <tr>\n",
       "      <th>max</th>\n",
       "      <td>7.700000e+06</td>\n",
       "      <td>33.000000</td>\n",
       "      <td>8.000000</td>\n",
       "      <td>13540.000000</td>\n",
       "      <td>1.651359e+06</td>\n",
       "      <td>3.500000</td>\n",
       "      <td>1.000000</td>\n",
       "      <td>4.000000</td>\n",
       "      <td>5.000000</td>\n",
       "      <td>13.000000</td>\n",
       "      <td>9410.000000</td>\n",
       "      <td>4820.000000</td>\n",
       "      <td>2015.000000</td>\n",
       "      <td>2015.000000</td>\n",
       "      <td>98199.000000</td>\n",
       "      <td>47.777600</td>\n",
       "      <td>-121.315000</td>\n",
       "      <td>6210.000000</td>\n",
       "      <td>871200.000000</td>\n",
       "    </tr>\n",
       "  </tbody>\n",
       "</table>\n",
       "</div>"
      ],
      "text/plain": [
       "              price      bedrooms     bathrooms   sqft_living      sqft_lot  \\\n",
       "count  2.161300e+04  21600.000000  21603.000000  21613.000000  2.161300e+04   \n",
       "mean   5.400881e+05      3.372870      2.115736   2079.899736  1.510697e+04   \n",
       "std    3.671272e+05      0.926657      0.768996    918.440897  4.142051e+04   \n",
       "min    7.500000e+04      1.000000      0.500000    290.000000  5.200000e+02   \n",
       "25%    3.219500e+05      3.000000      1.750000   1427.000000  5.040000e+03   \n",
       "50%    4.500000e+05      3.000000      2.250000   1910.000000  7.618000e+03   \n",
       "75%    6.450000e+05      4.000000      2.500000   2550.000000  1.068800e+04   \n",
       "max    7.700000e+06     33.000000      8.000000  13540.000000  1.651359e+06   \n",
       "\n",
       "             floors    waterfront          view     condition         grade  \\\n",
       "count  21613.000000  21613.000000  21613.000000  21613.000000  21613.000000   \n",
       "mean       1.494309      0.007542      0.234303      3.409430      7.656873   \n",
       "std        0.539989      0.086517      0.766318      0.650743      1.175459   \n",
       "min        1.000000      0.000000      0.000000      1.000000      1.000000   \n",
       "25%        1.000000      0.000000      0.000000      3.000000      7.000000   \n",
       "50%        1.500000      0.000000      0.000000      3.000000      7.000000   \n",
       "75%        2.000000      0.000000      0.000000      4.000000      8.000000   \n",
       "max        3.500000      1.000000      4.000000      5.000000     13.000000   \n",
       "\n",
       "         sqft_above  sqft_basement      yr_built  yr_renovated       zipcode  \\\n",
       "count  21613.000000   21613.000000  21613.000000  21613.000000  21613.000000   \n",
       "mean    1788.390691     291.509045   1971.005136     84.402258  98077.939805   \n",
       "std      828.090978     442.575043     29.373411    401.679240     53.505026   \n",
       "min      290.000000       0.000000   1900.000000      0.000000  98001.000000   \n",
       "25%     1190.000000       0.000000   1951.000000      0.000000  98033.000000   \n",
       "50%     1560.000000       0.000000   1975.000000      0.000000  98065.000000   \n",
       "75%     2210.000000     560.000000   1997.000000      0.000000  98118.000000   \n",
       "max     9410.000000    4820.000000   2015.000000   2015.000000  98199.000000   \n",
       "\n",
       "                lat          long  sqft_living15     sqft_lot15  \n",
       "count  21613.000000  21613.000000   21613.000000   21613.000000  \n",
       "mean      47.560053   -122.213896    1986.552492   12768.455652  \n",
       "std        0.138564      0.140828     685.391304   27304.179631  \n",
       "min       47.155900   -122.519000     399.000000     651.000000  \n",
       "25%       47.471000   -122.328000    1490.000000    5100.000000  \n",
       "50%       47.571800   -122.230000    1840.000000    7620.000000  \n",
       "75%       47.678000   -122.125000    2360.000000   10083.000000  \n",
       "max       47.777600   -121.315000    6210.000000  871200.000000  "
      ]
     },
     "execution_count": 8,
     "metadata": {},
     "output_type": "execute_result"
    }
   ],
   "source": [
    "df.drop(['id','Unnamed: 0'],axis=1,inplace = True)\n",
    "df.describe()"
   ]
  },
  {
   "cell_type": "markdown",
   "metadata": {},
   "source": [
    "We can see we have missing values for the columns <code> bedrooms</code>  and <code> bathrooms </code>\n"
   ]
  },
  {
   "cell_type": "code",
   "execution_count": 9,
   "metadata": {
    "collapsed": false,
    "jupyter": {
     "outputs_hidden": false
    }
   },
   "outputs": [
    {
     "name": "stdout",
     "output_type": "stream",
     "text": [
      "number of NaN values for the column bedrooms : 13\n",
      "number of NaN values for the column bathrooms : 10\n"
     ]
    }
   ],
   "source": [
    "print(\"number of NaN values for the column bedrooms :\", df['bedrooms'].isnull().sum())\n",
    "print(\"number of NaN values for the column bathrooms :\", df['bathrooms'].isnull().sum())\n"
   ]
  },
  {
   "cell_type": "markdown",
   "metadata": {},
   "source": [
    "We can replace the missing values of the column <code>'bedrooms'</code> with the mean of the column  <code>'bedrooms' </code> using the method <code>replace()</code>. Don't forget to set the <code>inplace</code> parameter to <code>True</code>\n"
   ]
  },
  {
   "cell_type": "code",
   "execution_count": 10,
   "metadata": {},
   "outputs": [],
   "source": [
    "mean=df['bedrooms'].mean()\n",
    "df['bedrooms'].replace(np.nan,mean, inplace=True)"
   ]
  },
  {
   "cell_type": "markdown",
   "metadata": {},
   "source": [
    "We also replace the missing values of the column <code>'bathrooms'</code> with the mean of the column  <code>'bathrooms' </code> using the method <code>replace()</code>. Don't forget to set the <code> inplace </code>  parameter top <code> True </code>\n"
   ]
  },
  {
   "cell_type": "code",
   "execution_count": 11,
   "metadata": {},
   "outputs": [],
   "source": [
    "mean=df['bathrooms'].mean()\n",
    "df['bathrooms'].replace(np.nan,mean, inplace=True)"
   ]
  },
  {
   "cell_type": "code",
   "execution_count": 12,
   "metadata": {
    "collapsed": false,
    "jupyter": {
     "outputs_hidden": false
    }
   },
   "outputs": [
    {
     "name": "stdout",
     "output_type": "stream",
     "text": [
      "number of NaN values for the column bedrooms : 0\n",
      "number of NaN values for the column bathrooms : 0\n"
     ]
    }
   ],
   "source": [
    "print(\"number of NaN values for the column bedrooms :\", df['bedrooms'].isnull().sum())\n",
    "print(\"number of NaN values for the column bathrooms :\", df['bathrooms'].isnull().sum())"
   ]
  },
  {
   "cell_type": "markdown",
   "metadata": {},
   "source": [
    "# Module 3: Exploratory Data Analysis\n"
   ]
  },
  {
   "cell_type": "markdown",
   "metadata": {},
   "source": [
    "### Question 3\n",
    "\n",
    "Use the method <code>value_counts</code> to count the number of houses with unique floor values, use the method <code>.to_frame()</code> to convert it to a dataframe.\n"
   ]
  },
  {
   "cell_type": "code",
   "execution_count": 13,
   "metadata": {
    "collapsed": false,
    "jupyter": {
     "outputs_hidden": false
    }
   },
   "outputs": [
    {
     "data": {
      "text/html": [
       "<div>\n",
       "<style scoped>\n",
       "    .dataframe tbody tr th:only-of-type {\n",
       "        vertical-align: middle;\n",
       "    }\n",
       "\n",
       "    .dataframe tbody tr th {\n",
       "        vertical-align: top;\n",
       "    }\n",
       "\n",
       "    .dataframe thead th {\n",
       "        text-align: right;\n",
       "    }\n",
       "</style>\n",
       "<table border=\"1\" class=\"dataframe\">\n",
       "  <thead>\n",
       "    <tr style=\"text-align: right;\">\n",
       "      <th></th>\n",
       "      <th>floors</th>\n",
       "    </tr>\n",
       "  </thead>\n",
       "  <tbody>\n",
       "    <tr>\n",
       "      <th>1.0</th>\n",
       "      <td>10680</td>\n",
       "    </tr>\n",
       "    <tr>\n",
       "      <th>2.0</th>\n",
       "      <td>8241</td>\n",
       "    </tr>\n",
       "    <tr>\n",
       "      <th>1.5</th>\n",
       "      <td>1910</td>\n",
       "    </tr>\n",
       "    <tr>\n",
       "      <th>3.0</th>\n",
       "      <td>613</td>\n",
       "    </tr>\n",
       "    <tr>\n",
       "      <th>2.5</th>\n",
       "      <td>161</td>\n",
       "    </tr>\n",
       "    <tr>\n",
       "      <th>3.5</th>\n",
       "      <td>8</td>\n",
       "    </tr>\n",
       "  </tbody>\n",
       "</table>\n",
       "</div>"
      ],
      "text/plain": [
       "     floors\n",
       "1.0   10680\n",
       "2.0    8241\n",
       "1.5    1910\n",
       "3.0     613\n",
       "2.5     161\n",
       "3.5       8"
      ]
     },
     "execution_count": 13,
     "metadata": {},
     "output_type": "execute_result"
    }
   ],
   "source": [
    "df['floors'].value_counts().to_frame()"
   ]
  },
  {
   "cell_type": "markdown",
   "metadata": {},
   "source": [
    "### Question 4\n",
    "\n",
    "Use the function <code>boxplot</code> in the seaborn library  to  determine whether houses with a waterfront view or without a waterfront view have more price outliers.\n"
   ]
  },
  {
   "cell_type": "code",
   "execution_count": 14,
   "metadata": {},
   "outputs": [
    {
     "data": {
      "text/plain": [
       "[Text(0.5, 0, 'waterfront'),\n",
       " Text(0, 0.5, 'price'),\n",
       " Text(0.5, 1.0, 'Price over Water Front')]"
      ]
     },
     "execution_count": 14,
     "metadata": {},
     "output_type": "execute_result"
    },
    {
     "data": {
      "image/png": "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\n",
      "text/plain": [
       "<Figure size 432x288 with 1 Axes>"
      ]
     },
     "metadata": {
      "needs_background": "light"
     },
     "output_type": "display_data"
    }
   ],
   "source": [
    "sns.boxplot(x=\"waterfront\",y=\"price\",data=df).set(\n",
    "    xlabel='waterfront', ylabel='price',title=\"Price over Water Front\")"
   ]
  },
  {
   "cell_type": "markdown",
   "metadata": {},
   "source": [
    "### Question 5\n",
    "\n",
    "Use the function <code>regplot</code>  in the seaborn library  to  determine if the feature <code>sqft_above</code> is negatively or positively correlated with price.\n"
   ]
  },
  {
   "cell_type": "code",
   "execution_count": 15,
   "metadata": {
    "collapsed": false,
    "jupyter": {
     "outputs_hidden": false
    }
   },
   "outputs": [
    {
     "data": {
      "text/plain": [
       "[Text(0.5, 0, 'sqft_above'),\n",
       " Text(0, 0.5, 'price'),\n",
       " Text(0.5, 1.0, 'Price over sqft_above')]"
      ]
     },
     "execution_count": 15,
     "metadata": {},
     "output_type": "execute_result"
    },
    {
     "data": {
      "image/png": "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\n",
      "text/plain": [
       "<Figure size 432x288 with 1 Axes>"
      ]
     },
     "metadata": {
      "needs_background": "light"
     },
     "output_type": "display_data"
    }
   ],
   "source": [
    "sns.regplot(x=\"sqft_above\",y=\"price\",data=df).set(\n",
    "    xlabel='sqft_above', ylabel='price',title=\"Price over sqft_above\")"
   ]
  },
  {
   "cell_type": "markdown",
   "metadata": {},
   "source": [
    "We can use the Pandas method <code>corr()</code>  to find the feature other than price that is most correlated with price.\n"
   ]
  },
  {
   "cell_type": "code",
   "execution_count": 16,
   "metadata": {
    "collapsed": false,
    "jupyter": {
     "outputs_hidden": false
    }
   },
   "outputs": [
    {
     "data": {
      "text/plain": [
       "zipcode         -0.053203\n",
       "long             0.021626\n",
       "condition        0.036362\n",
       "yr_built         0.054012\n",
       "sqft_lot15       0.082447\n",
       "sqft_lot         0.089661\n",
       "yr_renovated     0.126434\n",
       "floors           0.256794\n",
       "waterfront       0.266369\n",
       "lat              0.307003\n",
       "bedrooms         0.308797\n",
       "sqft_basement    0.323816\n",
       "view             0.397293\n",
       "bathrooms        0.525738\n",
       "sqft_living15    0.585379\n",
       "sqft_above       0.605567\n",
       "grade            0.667434\n",
       "sqft_living      0.702035\n",
       "price            1.000000\n",
       "Name: price, dtype: float64"
      ]
     },
     "execution_count": 16,
     "metadata": {},
     "output_type": "execute_result"
    }
   ],
   "source": [
    "df.corr()['price'].sort_values()"
   ]
  },
  {
   "cell_type": "markdown",
   "metadata": {},
   "source": [
    "# Module 4: Model Development\n"
   ]
  },
  {
   "cell_type": "markdown",
   "metadata": {},
   "source": [
    "We can Fit a linear regression model using the  longitude feature <code>'long'</code> and  caculate the R^2.\n"
   ]
  },
  {
   "cell_type": "code",
   "execution_count": 17,
   "metadata": {
    "collapsed": false,
    "jupyter": {
     "outputs_hidden": false
    }
   },
   "outputs": [
    {
     "data": {
      "text/plain": [
       "0.00046769430149007363"
      ]
     },
     "execution_count": 17,
     "metadata": {},
     "output_type": "execute_result"
    }
   ],
   "source": [
    "X = df[['long']]\n",
    "Y = df['price']\n",
    "lm = LinearRegression()\n",
    "lm.fit(X,Y)\n",
    "lm.score(X, Y)"
   ]
  },
  {
   "cell_type": "markdown",
   "metadata": {},
   "source": [
    "### Question  6\n",
    "\n",
    "Fit a linear regression model to predict the <code>'price'</code> using the feature <code>'sqft_living'</code> then calculate the R^2. Take a screenshot of your code and the value of the R^2.\n"
   ]
  },
  {
   "cell_type": "code",
   "execution_count": 18,
   "metadata": {
    "collapsed": false,
    "jupyter": {
     "outputs_hidden": false
    }
   },
   "outputs": [
    {
     "data": {
      "text/plain": [
       "0.49285321790379316"
      ]
     },
     "execution_count": 18,
     "metadata": {},
     "output_type": "execute_result"
    }
   ],
   "source": [
    "X = df[['sqft_living']]\n",
    "Y = df['price']\n",
    "lm = LinearRegression()\n",
    "lm.fit(X,Y)\n",
    "lm.score(X, Y)"
   ]
  },
  {
   "cell_type": "markdown",
   "metadata": {},
   "source": [
    "### Question 7\n",
    "\n",
    "Fit a linear regression model to predict the <code>'price'</code> using the list of features:\n"
   ]
  },
  {
   "cell_type": "code",
   "execution_count": 19,
   "metadata": {},
   "outputs": [],
   "source": [
    "features =[\"floors\", \"waterfront\",\"lat\" ,\"bedrooms\" ,\"sqft_basement\" ,\"view\" ,\"bathrooms\",\"sqft_living15\",\"sqft_above\",\"grade\",\"sqft_living\"]     "
   ]
  },
  {
   "cell_type": "markdown",
   "metadata": {},
   "source": [
    "Then calculate the R^2. Take a screenshot of your code.\n"
   ]
  },
  {
   "cell_type": "code",
   "execution_count": 20,
   "metadata": {
    "collapsed": false,
    "jupyter": {
     "outputs_hidden": false
    }
   },
   "outputs": [
    {
     "data": {
      "text/plain": [
       "0.6576951666037502"
      ]
     },
     "execution_count": 20,
     "metadata": {},
     "output_type": "execute_result"
    }
   ],
   "source": [
    "X = df[features]\n",
    "Y = df['price']\n",
    "lm = LinearRegression()\n",
    "lm.fit(X,Y)\n",
    "lm.score(X, Y)"
   ]
  },
  {
   "cell_type": "markdown",
   "metadata": {},
   "source": [
    "### This will help with Question 8\n",
    "\n",
    "Create a list of tuples, the first element in the tuple contains the name of the estimator:\n",
    "\n",
    "<code>'scale'</code>\n",
    "\n",
    "<code>'polynomial'</code>\n",
    "\n",
    "<code>'model'</code>\n",
    "\n",
    "The second element in the tuple  contains the model constructor\n",
    "\n",
    "<code>StandardScaler()</code>\n",
    "\n",
    "<code>PolynomialFeatures(include_bias=False)</code>\n",
    "\n",
    "<code>LinearRegression()</code>\n"
   ]
  },
  {
   "cell_type": "code",
   "execution_count": 21,
   "metadata": {},
   "outputs": [],
   "source": [
    "Input=[('scale',StandardScaler()),('polynomial', PolynomialFeatures(include_bias=False)),('model',LinearRegression())]"
   ]
  },
  {
   "cell_type": "markdown",
   "metadata": {},
   "source": [
    "### Question 8\n",
    "\n",
    "Use the list to create a pipeline object to predict the 'price', fit the object using the features in the list <code>features</code>, and calculate the R^2.\n"
   ]
  },
  {
   "cell_type": "code",
   "execution_count": 22,
   "metadata": {
    "tags": []
   },
   "outputs": [
    {
     "name": "stderr",
     "output_type": "stream",
     "text": [
      "/home/jupyterlab/conda/envs/python/lib/python3.7/site-packages/sklearn/utils/validation.py:209: DeprecationWarning: distutils Version classes are deprecated. Use packaging.version instead.\n",
      "  if LooseVersion(joblib_version) < '0.12':\n"
     ]
    },
    {
     "data": {
      "text/plain": [
       "0.7513406905914715"
      ]
     },
     "execution_count": 22,
     "metadata": {},
     "output_type": "execute_result"
    }
   ],
   "source": [
    "X = df[features]\n",
    "X = X.astype(float)\n",
    "Y = df['price']\n",
    "pipe = Pipeline(Input)\n",
    "pipe.fit(X,Y)\n",
    "\n",
    "pipe.score(X,Y)"
   ]
  },
  {
   "cell_type": "markdown",
   "metadata": {},
   "source": [
    "# Module 5: Model Evaluation and Refinement\n"
   ]
  },
  {
   "cell_type": "markdown",
   "metadata": {},
   "source": [
    "Import the necessary modules:\n"
   ]
  },
  {
   "cell_type": "code",
   "execution_count": 23,
   "metadata": {
    "collapsed": false,
    "jupyter": {
     "outputs_hidden": false
    }
   },
   "outputs": [
    {
     "name": "stdout",
     "output_type": "stream",
     "text": [
      "done\n"
     ]
    }
   ],
   "source": [
    "from sklearn.model_selection import cross_val_score\n",
    "from sklearn.model_selection import train_test_split\n",
    "print(\"done\")"
   ]
  },
  {
   "cell_type": "markdown",
   "metadata": {},
   "source": [
    "We will split the data into training and testing sets:\n"
   ]
  },
  {
   "cell_type": "code",
   "execution_count": 24,
   "metadata": {
    "collapsed": false,
    "jupyter": {
     "outputs_hidden": false
    }
   },
   "outputs": [
    {
     "name": "stdout",
     "output_type": "stream",
     "text": [
      "number of test samples: 3242\n",
      "number of training samples: 18371\n"
     ]
    }
   ],
   "source": [
    "features =[\"floors\", \"waterfront\",\"lat\" ,\"bedrooms\" ,\"sqft_basement\" ,\"view\" ,\"bathrooms\",\"sqft_living15\",\"sqft_above\",\"grade\",\"sqft_living\"]    \n",
    "X = df[features]\n",
    "Y = df['price']\n",
    "\n",
    "x_train, x_test, y_train, y_test = train_test_split(X, Y, test_size=0.15, random_state=1)\n",
    "\n",
    "\n",
    "print(\"number of test samples:\", x_test.shape[0])\n",
    "print(\"number of training samples:\",x_train.shape[0])"
   ]
  },
  {
   "cell_type": "markdown",
   "metadata": {},
   "source": [
    "### Question 9\n",
    "\n",
    "Create and fit a Ridge regression object using the training data, set the regularization parameter to 0.1, and calculate the R^2 using the test data.\n"
   ]
  },
  {
   "cell_type": "code",
   "execution_count": 25,
   "metadata": {},
   "outputs": [],
   "source": [
    "from sklearn.linear_model import Ridge"
   ]
  },
  {
   "cell_type": "code",
   "execution_count": 26,
   "metadata": {
    "collapsed": false,
    "jupyter": {
     "outputs_hidden": false
    }
   },
   "outputs": [
    {
     "data": {
      "text/plain": [
       "0.6478759163939112"
      ]
     },
     "execution_count": 26,
     "metadata": {},
     "output_type": "execute_result"
    }
   ],
   "source": [
    "RigeModel = Ridge(alpha=0.1) \n",
    "RigeModel.fit(x_train, y_train)\n",
    "RigeModel.score(x_test, y_test)"
   ]
  },
  {
   "cell_type": "markdown",
   "metadata": {},
   "source": [
    "### Question 10\n",
    "\n",
    "Perform a second order polynomial transform on both the training data and testing data. Create and fit a Ridge regression object using the training data, set the regularisation parameter to 0.1, and calculate the R^2 utilising the test data provided. Take a screenshot of your code and the R^2.\n"
   ]
  },
  {
   "cell_type": "code",
   "execution_count": 27,
   "metadata": {
    "collapsed": false,
    "jupyter": {
     "outputs_hidden": false
    }
   },
   "outputs": [
    {
     "data": {
      "text/plain": [
       "0.7002744259992868"
      ]
     },
     "execution_count": 27,
     "metadata": {},
     "output_type": "execute_result"
    }
   ],
   "source": [
    "pr=PolynomialFeatures(degree=2)\n",
    "\n",
    "x_train_pr = pr.fit_transform(x_train)\n",
    "x_test_pr = pr.fit_transform(x_test)\n",
    "\n",
    "RigeModel=Ridge(alpha=0.1)\n",
    "RigeModel.fit(x_train_pr, y_train)\n",
    "RigeModel.score(x_test_pr, y_test)"
   ]
  },
  {
   "cell_type": "markdown",
   "metadata": {},
   "source": [
    "<p>Once you complete your notebook you will have to share it. Select the icon on the top right a marked in red in the image below, a dialogue box should open, and select the option all&nbsp;content excluding sensitive code cells.</p>\n",
    "        <p><img width=\"600\" src=\"https://cf-courses-data.s3.us.cloud-object-storage.appdomain.cloud/IBMDeveloperSkillsNetwork-DA0101EN-SkillsNetwork/labs/FinalModule_Coursera/images/share_notebook.png\" alt=\"share notebook\"  style=\"display: block; margin-left: auto; margin-right: auto;\"/></p>\n",
    "        <p></p>\n",
    "        <p>You can then share the notebook&nbsp; via a&nbsp; URL by scrolling down as shown in the following image:</p>\n",
    "        <p style=\"text-align: center;\"><img width=\"600\"  src=\"https://cf-courses-data.s3.us.cloud-object-storage.appdomain.cloud/IBMDeveloperSkillsNetwork-DA0101EN-SkillsNetwork/labs/FinalModule_Coursera/images/url_notebook.png\" alt=\"HTML\" style=\"display: block; margin-left: auto; margin-right: auto;\" /></p>\n",
    "        <p>&nbsp;</p>\n"
   ]
  },
  {
   "cell_type": "markdown",
   "metadata": {},
   "source": [
    "<h2>About the Authors:</h2> \n",
    "\n",
    "<a href=\"https://www.linkedin.com/in/joseph-s-50398b136/?utm_medium=Exinfluencer&utm_source=Exinfluencer&utm_content=000026UJ&utm_term=10006555&utm_id=NA-SkillsNetwork-Channel-SkillsNetworkCoursesIBMDeveloperSkillsNetworkDA0101ENSkillsNetwork20235326-2022-01-01\">Joseph Santarcangelo</a> has a PhD in Electrical Engineering, his research focused on using machine learning, signal processing, and computer vision to determine how videos impact human cognition. Joseph has been working for IBM since he completed his PhD.\n"
   ]
  },
  {
   "cell_type": "markdown",
   "metadata": {},
   "source": [
    "Other contributors: <a href=\"https://www.linkedin.com/in/michelleccarey/?utm_medium=Exinfluencer&utm_source=Exinfluencer&utm_content=000026UJ&utm_term=10006555&utm_id=NA-SkillsNetwork-Channel-SkillsNetworkCoursesIBMDeveloperSkillsNetworkDA0101ENSkillsNetwork20235326-2022-01-01\">Michelle Carey</a>, <a href=\"https://www.linkedin.com/in/jiahui-mavis-zhou-a4537814a?utm_medium=Exinfluencer&utm_source=Exinfluencer&utm_content=000026UJ&utm_term=10006555&utm_id=NA-SkillsNetwork-Channel-SkillsNetworkCoursesIBMDeveloperSkillsNetworkDA0101ENSkillsNetwork20235326-2022-01-01\">Mavis Zhou</a>\n"
   ]
  },
  {
   "cell_type": "markdown",
   "metadata": {},
   "source": [
    "## Change Log\n",
    "\n",
    "| Date (YYYY-MM-DD) | Version | Changed By      | Change Description                           |\n",
    "| ----------------- | ------- | --------------- | -------------------------------------------- |\n",
    "| 2020-12-01        | 2.2     | Aije Egwaikhide | Coverted Data describtion from text to table |\n",
    "| 2020-10-06        | 2.1     | Lakshmi Holla   | Changed markdown instruction of Question1    |\n",
    "| 2020-08-27        | 2.0     | Malika Singla   | Added lab to GitLab                          |\n",
    "\n",
    "<hr>\n",
    "\n",
    "## <h3 align=\"center\"> © IBM Corporation 2020. All rights reserved. <h3/>\n",
    "\n",
    "<p>\n"
   ]
  },
  {
   "cell_type": "code",
   "execution_count": null,
   "metadata": {},
   "outputs": [],
   "source": []
  }
 ],
 "metadata": {
  "kernelspec": {
   "display_name": "Python",
   "language": "python",
   "name": "conda-env-python-py"
  },
  "language_info": {
   "codemirror_mode": {
    "name": "ipython",
    "version": 3
   },
   "file_extension": ".py",
   "mimetype": "text/x-python",
   "name": "python",
   "nbconvert_exporter": "python",
   "pygments_lexer": "ipython3",
   "version": "3.7.12"
  },
  "widgets": {
   "state": {},
   "version": "1.1.2"
  }
 },
 "nbformat": 4,
 "nbformat_minor": 4
}
